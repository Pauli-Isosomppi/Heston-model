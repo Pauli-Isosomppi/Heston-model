{
 "cells": [
  {
   "cell_type": "code",
   "execution_count": 1,
   "id": "12ee59a5-c8b4-4e3c-9ea6-1598e79c70eb",
   "metadata": {},
   "outputs": [
    {
     "ename": "ModuleNotFoundError",
     "evalue": "No module named '_testcapi'",
     "output_type": "error",
     "traceback": [
      "\u001b[1;31m---------------------------------------------------------------------------\u001b[0m",
      "\u001b[1;31mModuleNotFoundError\u001b[0m                       Traceback (most recent call last)",
      "Cell \u001b[1;32mIn[1], line 4\u001b[0m\n\u001b[0;32m      2\u001b[0m \u001b[39mimport\u001b[39;00m \u001b[39mseaborn\u001b[39;00m \u001b[39mas\u001b[39;00m \u001b[39msns\u001b[39;00m\n\u001b[0;32m      3\u001b[0m \u001b[39mimport\u001b[39;00m \u001b[39mmatplotlib\u001b[39;00m\u001b[39m.\u001b[39;00m\u001b[39mpyplot\u001b[39;00m \u001b[39mas\u001b[39;00m \u001b[39mplt\u001b[39;00m\n\u001b[1;32m----> 4\u001b[0m \u001b[39mfrom\u001b[39;00m \u001b[39mpy_vollib_vectorized\u001b[39;00m \u001b[39mimport\u001b[39;00m vectorized_implied_volatility \u001b[39mas\u001b[39;00m implied_vol\n",
      "File \u001b[1;32m~\\AppData\\Local\\Packages\\PythonSoftwareFoundation.Python.3.10_qbz5n2kfra8p0\\LocalCache\\local-packages\\Python310\\site-packages\\py_vollib_vectorized\\__init__.py:6\u001b[0m\n\u001b[0;32m      2\u001b[0m \u001b[39mimport\u001b[39;00m \u001b[39minspect\u001b[39;00m\n\u001b[0;32m      4\u001b[0m \u001b[39mfrom\u001b[39;00m \u001b[39mfunctools\u001b[39;00m \u001b[39mimport\u001b[39;00m partial, update_wrapper\n\u001b[1;32m----> 6\u001b[0m \u001b[39mfrom\u001b[39;00m \u001b[39m.\u001b[39;00m\u001b[39mapi\u001b[39;00m \u001b[39mimport\u001b[39;00m get_all_greeks, price_dataframe\n\u001b[0;32m      8\u001b[0m \u001b[39mfrom\u001b[39;00m \u001b[39m.\u001b[39;00m\u001b[39mimplied_volatility\u001b[39;00m \u001b[39mimport\u001b[39;00m vectorized_implied_volatility_black, vectorized_implied_volatility\n\u001b[0;32m      9\u001b[0m \u001b[39mfrom\u001b[39;00m \u001b[39m.\u001b[39;00m\u001b[39mgreeks\u001b[39;00m \u001b[39mimport\u001b[39;00m delta \u001b[39mas\u001b[39;00m vectorized_delta, \\\n\u001b[0;32m     10\u001b[0m     gamma \u001b[39mas\u001b[39;00m vectorized_gamma, rho \u001b[39mas\u001b[39;00m vectorized_rho, vega \u001b[39mas\u001b[39;00m vectorized_vega, theta \u001b[39mas\u001b[39;00m vectorized_theta\n",
      "File \u001b[1;32m~\\AppData\\Local\\Packages\\PythonSoftwareFoundation.Python.3.10_qbz5n2kfra8p0\\LocalCache\\local-packages\\Python310\\site-packages\\py_vollib_vectorized\\api.py:7\u001b[0m\n\u001b[0;32m      4\u001b[0m \u001b[39mimport\u001b[39;00m \u001b[39mnumpy\u001b[39;00m \u001b[39mas\u001b[39;00m \u001b[39mnp\u001b[39;00m\n\u001b[0;32m      5\u001b[0m \u001b[39mimport\u001b[39;00m \u001b[39mpandas\u001b[39;00m \u001b[39mas\u001b[39;00m \u001b[39mpd\u001b[39;00m\n\u001b[1;32m----> 7\u001b[0m \u001b[39mfrom\u001b[39;00m \u001b[39m.\u001b[39;00m\u001b[39mmodels\u001b[39;00m \u001b[39mimport\u001b[39;00m vectorized_black, vectorized_black_scholes, vectorized_black_scholes_merton\n\u001b[0;32m      8\u001b[0m \u001b[39mfrom\u001b[39;00m \u001b[39m.\u001b[39;00m\u001b[39mimplied_volatility\u001b[39;00m \u001b[39mimport\u001b[39;00m vectorized_implied_volatility_black, vectorized_implied_volatility\n\u001b[0;32m     10\u001b[0m \u001b[39mfrom\u001b[39;00m \u001b[39m.\u001b[39;00m\u001b[39m_numerical_greeks\u001b[39;00m \u001b[39mimport\u001b[39;00m numerical_delta_black, numerical_theta_black, \\\n\u001b[0;32m     11\u001b[0m     numerical_vega_black, numerical_rho_black, numerical_gamma_black\n",
      "File \u001b[1;32m~\\AppData\\Local\\Packages\\PythonSoftwareFoundation.Python.3.10_qbz5n2kfra8p0\\LocalCache\\local-packages\\Python310\\site-packages\\py_vollib_vectorized\\models.py:4\u001b[0m\n\u001b[0;32m      1\u001b[0m \u001b[39mimport\u001b[39;00m \u001b[39mnumpy\u001b[39;00m \u001b[39mas\u001b[39;00m \u001b[39mnp\u001b[39;00m\n\u001b[0;32m      2\u001b[0m \u001b[39mimport\u001b[39;00m \u001b[39mpandas\u001b[39;00m \u001b[39mas\u001b[39;00m \u001b[39mpd\u001b[39;00m\n\u001b[1;32m----> 4\u001b[0m \u001b[39mfrom\u001b[39;00m \u001b[39m.\u001b[39;00m\u001b[39m_model_calls\u001b[39;00m \u001b[39mimport\u001b[39;00m _black_scholes_merton_vectorized_call, _black_vectorized_call, _black_scholes_vectorized_call\n\u001b[0;32m      5\u001b[0m \u001b[39mfrom\u001b[39;00m \u001b[39m.\u001b[39;00m\u001b[39mutil\u001b[39;00m\u001b[39m.\u001b[39;00m\u001b[39mdata_format\u001b[39;00m \u001b[39mimport\u001b[39;00m _preprocess_flags, maybe_format_data_and_broadcast, _validate_data\n\u001b[0;32m      8\u001b[0m \u001b[39mdef\u001b[39;00m \u001b[39mvectorized_black\u001b[39m(flag, F, K, t, r, sigma, \u001b[39m*\u001b[39m, return_as\u001b[39m=\u001b[39m\u001b[39m\"\u001b[39m\u001b[39mdataframe\u001b[39m\u001b[39m\"\u001b[39m, dtype\u001b[39m=\u001b[39mnp\u001b[39m.\u001b[39mfloat64):\n",
      "File \u001b[1;32m~\\AppData\\Local\\Packages\\PythonSoftwareFoundation.Python.3.10_qbz5n2kfra8p0\\LocalCache\\local-packages\\Python310\\site-packages\\py_vollib_vectorized\\_model_calls.py:2\u001b[0m\n\u001b[0;32m      1\u001b[0m \u001b[39mimport\u001b[39;00m \u001b[39mnumpy\u001b[39;00m \u001b[39mas\u001b[39;00m \u001b[39mnp\u001b[39;00m\n\u001b[1;32m----> 2\u001b[0m \u001b[39mfrom\u001b[39;00m \u001b[39mpy_lets_be_rational\u001b[39;00m\u001b[39m.\u001b[39;00m\u001b[39mconstants\u001b[39;00m \u001b[39mimport\u001b[39;00m \u001b[39m*\u001b[39m\n\u001b[0;32m      3\u001b[0m \u001b[39mfrom\u001b[39;00m \u001b[39mpy_lets_be_rational\u001b[39;00m\u001b[39m.\u001b[39;00m\u001b[39mrationalcubic\u001b[39;00m \u001b[39mimport\u001b[39;00m \u001b[39m*\u001b[39m\n\u001b[0;32m      5\u001b[0m \u001b[39mfrom\u001b[39;00m \u001b[39mpy_vollib_vectorized\u001b[39;00m\u001b[39m.\u001b[39;00m\u001b[39mutil\u001b[39;00m\u001b[39m.\u001b[39;00m\u001b[39mgreeks_helpers\u001b[39;00m \u001b[39mimport\u001b[39;00m _asymptotic_expansion_of_normalized_black_call, _normalised_intrinsic_call, \\\n\u001b[0;32m      6\u001b[0m     _small_t_expansion_of_normalized_black_call, _normalized_black_call_using_norm_cdf, \\\n\u001b[0;32m      7\u001b[0m     _normalised_black_call_using_erfcx\n",
      "File \u001b[1;32m~\\AppData\\Local\\Packages\\PythonSoftwareFoundation.Python.3.10_qbz5n2kfra8p0\\LocalCache\\local-packages\\Python310\\site-packages\\py_lets_be_rational\\__init__.py:30\u001b[0m\n\u001b[0;32m      1\u001b[0m \u001b[39m# -*- coding: utf-8 -*-\u001b[39;00m\n\u001b[0;32m      3\u001b[0m \u001b[39m\"\"\"\u001b[39;00m\n\u001b[0;32m      4\u001b[0m \u001b[39mpy_lets_be_rational\u001b[39;00m\n\u001b[0;32m      5\u001b[0m \u001b[39m~~~~~~~~~~~~~~~~~~~\u001b[39;00m\n\u001b[1;32m   (...)\u001b[0m\n\u001b[0;32m     27\u001b[0m \u001b[39m======================================================================================\u001b[39;00m\n\u001b[0;32m     28\u001b[0m \u001b[39m\"\"\"\u001b[39;00m\n\u001b[1;32m---> 30\u001b[0m \u001b[39mfrom\u001b[39;00m \u001b[39mpy_lets_be_rational\u001b[39;00m\u001b[39m.\u001b[39;00m\u001b[39mlets_be_rational\u001b[39;00m \u001b[39mimport\u001b[39;00m black\n\u001b[0;32m     31\u001b[0m \u001b[39mfrom\u001b[39;00m \u001b[39mpy_lets_be_rational\u001b[39;00m\u001b[39m.\u001b[39;00m\u001b[39mlets_be_rational\u001b[39;00m \u001b[39mimport\u001b[39;00m normalised_black\n\u001b[0;32m     32\u001b[0m \u001b[39mfrom\u001b[39;00m \u001b[39mpy_lets_be_rational\u001b[39;00m\u001b[39m.\u001b[39;00m\u001b[39mlets_be_rational\u001b[39;00m \u001b[39mimport\u001b[39;00m normalised_black_call\n",
      "File \u001b[1;32m~\\AppData\\Local\\Packages\\PythonSoftwareFoundation.Python.3.10_qbz5n2kfra8p0\\LocalCache\\local-packages\\Python310\\site-packages\\py_lets_be_rational\\lets_be_rational.py:35\u001b[0m\n\u001b[0;32m     32\u001b[0m \u001b[39mfrom\u001b[39;00m \u001b[39mmath\u001b[39;00m \u001b[39mimport\u001b[39;00m fabs, sqrt, log, exp\n\u001b[0;32m     34\u001b[0m \u001b[39mfrom\u001b[39;00m \u001b[39mpy_lets_be_rational\u001b[39;00m\u001b[39m.\u001b[39;00m\u001b[39mnumba_helper\u001b[39;00m \u001b[39mimport\u001b[39;00m maybe_jit\n\u001b[1;32m---> 35\u001b[0m \u001b[39mfrom\u001b[39;00m \u001b[39mpy_lets_be_rational\u001b[39;00m\u001b[39m.\u001b[39;00m\u001b[39mexceptions\u001b[39;00m \u001b[39mimport\u001b[39;00m BelowIntrinsicException, AboveMaximumException\n\u001b[0;32m     37\u001b[0m \u001b[39mfrom\u001b[39;00m \u001b[39mpy_lets_be_rational\u001b[39;00m\u001b[39m.\u001b[39;00m\u001b[39mconstants\u001b[39;00m \u001b[39mimport\u001b[39;00m \u001b[39m*\u001b[39m\n\u001b[0;32m     38\u001b[0m \u001b[39mfrom\u001b[39;00m \u001b[39mpy_lets_be_rational\u001b[39;00m\u001b[39m.\u001b[39;00m\u001b[39mrationalcubic\u001b[39;00m \u001b[39mimport\u001b[39;00m \u001b[39m*\u001b[39m\n",
      "File \u001b[1;32m~\\AppData\\Local\\Packages\\PythonSoftwareFoundation.Python.3.10_qbz5n2kfra8p0\\LocalCache\\local-packages\\Python310\\site-packages\\py_lets_be_rational\\exceptions.py:30\u001b[0m\n\u001b[0;32m      1\u001b[0m \u001b[39m# -*- coding: utf-8 -*-\u001b[39;00m\n\u001b[0;32m      3\u001b[0m \u001b[39m\"\"\"\u001b[39;00m\n\u001b[0;32m      4\u001b[0m \u001b[39mpy_lets_be_rational.exceptions\u001b[39;00m\n\u001b[0;32m      5\u001b[0m \u001b[39m~~~~~~~~~~~~~~~~~~~~~~~~~~~~~~\u001b[39;00m\n\u001b[1;32m   (...)\u001b[0m\n\u001b[0;32m     27\u001b[0m \u001b[39m======================================================================================\u001b[39;00m\n\u001b[0;32m     28\u001b[0m \u001b[39m\"\"\"\u001b[39;00m\n\u001b[1;32m---> 30\u001b[0m \u001b[39mfrom\u001b[39;00m \u001b[39mpy_lets_be_rational\u001b[39;00m \u001b[39mimport\u001b[39;00m constants\n\u001b[0;32m     33\u001b[0m \u001b[39mclass\u001b[39;00m \u001b[39mVolatilityValueException\u001b[39;00m(\u001b[39mException\u001b[39;00m):\n\u001b[0;32m     34\u001b[0m     \u001b[39mdef\u001b[39;00m \u001b[39m__init__\u001b[39m(\u001b[39mself\u001b[39m):\n",
      "File \u001b[1;32m~\\AppData\\Local\\Packages\\PythonSoftwareFoundation.Python.3.10_qbz5n2kfra8p0\\LocalCache\\local-packages\\Python310\\site-packages\\py_lets_be_rational\\constants.py:32\u001b[0m\n\u001b[0;32m      3\u001b[0m \u001b[39m\"\"\"\u001b[39;00m\n\u001b[0;32m      4\u001b[0m \u001b[39mpy_lets_be_rational.constants\u001b[39;00m\n\u001b[0;32m      5\u001b[0m \u001b[39m~~~~~~~~~~~~~~~~~~~~~~~~~~~~~\u001b[39;00m\n\u001b[1;32m   (...)\u001b[0m\n\u001b[0;32m     27\u001b[0m \u001b[39m======================================================================================\u001b[39;00m\n\u001b[0;32m     28\u001b[0m \u001b[39m\"\"\"\u001b[39;00m\n\u001b[0;32m     30\u001b[0m \u001b[39mfrom\u001b[39;00m \u001b[39m__future__\u001b[39;00m \u001b[39mimport\u001b[39;00m absolute_import\n\u001b[1;32m---> 32\u001b[0m \u001b[39mfrom\u001b[39;00m \u001b[39m_testcapi\u001b[39;00m \u001b[39mimport\u001b[39;00m DBL_MIN, DBL_MAX\n\u001b[0;32m     34\u001b[0m \u001b[39mimport\u001b[39;00m \u001b[39msys\u001b[39;00m\n\u001b[0;32m     35\u001b[0m \u001b[39mfrom\u001b[39;00m \u001b[39mmath\u001b[39;00m \u001b[39mimport\u001b[39;00m sqrt\n",
      "\u001b[1;31mModuleNotFoundError\u001b[0m: No module named '_testcapi'"
     ]
    }
   ],
   "source": [
    "import numpy as np\n",
    "import seaborn as sns\n",
    "import matplotlib.pyplot as plt\n",
    "from py_vollib_vectorized import vectorized_implied_volatility as implied_vol"
   ]
  },
  {
   "cell_type": "code",
   "execution_count": null,
   "id": "eeaca4a7-970c-484a-896d-a62be62ac12b",
   "metadata": {},
   "outputs": [],
   "source": [
    "# Parameters\n",
    "# simulation dependent\n",
    "S0 = 100.0             # asset price\n",
    "T = 1.0                # time in years\n",
    "r = 0.02               # risk-free rate\n",
    "N = 252                # number of time steps in simulation\n",
    "M = 1000               # number of simulations\n",
    "\n",
    "# Heston dependent parameters\n",
    "kappa = 3              # rate of mean reversion of variance under risk-neutral dynamics\n",
    "theta = 0.20**2        # long-term mean of variance under risk-neutral dynamics\n",
    "v0 = 0.25**2           # initial variance under risk-neutral dynamics\n",
    "rho = 0.7              # correlation between returns and variances under risk-neutral dynamics\n",
    "sigma = 0.6            # volatility of volatility\n",
    "\n",
    "theta, v0"
   ]
  },
  {
   "cell_type": "code",
   "execution_count": null,
   "id": "5c44b7c0-8563-42dd-be47-72fa950f8d58",
   "metadata": {},
   "outputs": [],
   "source": [
    "def heston_model_sim(S0, v0, rho, kappa, theta, sigma,T, N, M):\n",
    "    \"\"\"\n",
    "    Inputs:\n",
    "     - S0, v0: initial parameters for asset and variance\n",
    "     - rho   : correlation between asset returns and variance\n",
    "     - kappa : rate of mean reversion in variance process\n",
    "     - theta : long-term mean of variance process\n",
    "     - sigma : vol of vol / volatility of variance process\n",
    "     - T     : time of simulation\n",
    "     - N     : number of time steps\n",
    "     - M     : number of scenarios / simulations\n",
    "    \n",
    "    Outputs:\n",
    "    - asset prices over time (numpy array)\n",
    "    - variance over time (numpy array)\n",
    "    \"\"\"\n",
    "    # initialise other parameters\n",
    "    dt = T/N\n",
    "    mu = np.array([0,0])\n",
    "    cov = np.array([[1,rho],\n",
    "                    [rho,1]])\n",
    "\n",
    "    # arrays for storing prices and variances\n",
    "    S = np.full(shape=(N+1,M), fill_value=S0)\n",
    "    v = np.full(shape=(N+1,M), fill_value=v0)\n",
    "\n",
    "    # sampling correlated brownian motions under risk-neutral measure\n",
    "    Z = np.random.multivariate_normal(mu, cov, (N,M))\n",
    "\n",
    "    for i in range(1,N+1):\n",
    "        S[i] = S[i-1] * np.exp( (r - 0.5*v[i-1])*dt + np.sqrt(v[i-1] * dt) * Z[i-1,:,0] )\n",
    "        v[i] = np.maximum(v[i-1] + kappa*(theta-v[i-1])*dt + sigma*np.sqrt(v[i-1]*dt)*Z[i-1,:,1],0)\n",
    "    \n",
    "    return S, v"
   ]
  },
  {
   "cell_type": "code",
   "execution_count": null,
   "id": "095cc153",
   "metadata": {},
   "outputs": [],
   "source": [
    "rho_p = 0.98\n",
    "rho_n = -0.98\n",
    "S_p,v_p = heston_model_sim(S0, v0, rho_p, kappa, theta, sigma,T, N, M)\n",
    "S_n,v_n = heston_model_sim(S0, v0, rho_n, kappa, theta, sigma,T, N, M)"
   ]
  },
  {
   "cell_type": "code",
   "execution_count": null,
   "id": "70030fa4-6d2d-4bed-8236-f08cb6e4e368",
   "metadata": {},
   "outputs": [],
   "source": [
    "fig, (ax1, ax2)  = plt.subplots(1, 2, figsize=(12,5))\n",
    "time = np.linspace(0,T,N+1)\n",
    "ax1.plot(time,S_p)\n",
    "ax1.set_title('Heston Model Asset Prices')\n",
    "ax1.set_xlabel('Time')\n",
    "ax1.set_ylabel('Asset Prices')\n",
    "\n",
    "ax2.plot(time,v_p)\n",
    "ax2.set_title('Heston Model Variance Process')\n",
    "ax2.set_xlabel('Time')\n",
    "ax2.set_ylabel('Variance')\n",
    "\n",
    "plt.show()"
   ]
  },
  {
   "cell_type": "code",
   "execution_count": null,
   "id": "97426ab0-0045-45a1-94f9-343861dd11fa",
   "metadata": {},
   "outputs": [],
   "source": [
    "# simulate gbm process at time T\n",
    "gbm = S0*np.exp( (r - theta**2/2)*T + np.sqrt(theta)*np.sqrt(T)*np.random.normal(0,1,M) )\n",
    "\n",
    "fig, ax = plt.subplots()\n",
    "\n",
    "ax = sns.kdeplot(S_p[-1], label=r\"$\\rho= 0.98$\", ax=ax)\n",
    "ax = sns.kdeplot(S_n[-1], label=r\"$\\rho= -0.98$\", ax=ax)\n",
    "ax = sns.kdeplot(gbm, label=\"GBM\", ax=ax)\n",
    "\n",
    "plt.title(r'Asset Price Density under Heston Model')\n",
    "plt.xlim([20, 180])\n",
    "plt.xlabel('$S_T$')\n",
    "plt.ylabel('Density')\n",
    "plt.legend()\n",
    "plt.show()"
   ]
  },
  {
   "cell_type": "code",
   "execution_count": null,
   "id": "9f47c153-7058-4632-9112-49fd148c13db",
   "metadata": {},
   "outputs": [],
   "source": [
    "rho = -0.7\n",
    "S,v = heston_model_sim(S0, v0, rho, kappa, theta, sigma,T, N, M)\n",
    "\n",
    "# Set strikes and complete MC option price for different strikes\n",
    "K = np.arange(20,180,2)\n",
    "\n",
    "puts = np.array([np.exp(-r*T)*np.mean(np.maximum(k-S,0)) for k in K])\n",
    "calls = np.array([np.exp(-r*T)*np.mean(np.maximum(S-k,0)) for k in K])\n",
    "\n",
    "put_ivs = implied_vol(puts, S0, K, T, r, flag='p', q=0, return_as='numpy', on_error='ignore')\n",
    "call_ivs = implied_vol(calls, S0, K, T, r, flag='c', q=0, return_as='numpy')\n",
    "\n",
    "plt.plot(K, call_ivs, label=r'IV calls')\n",
    "plt.plot(K, put_ivs, label=r'IV puts')\n",
    "\n",
    "plt.ylabel('Implied Volatility')\n",
    "plt.xlabel('Strike')\n",
    "\n",
    "plt.title('Implied Volatility Smile from Heston Model')\n",
    "plt.legend()\n",
    "plt.show()"
   ]
  }
 ],
 "metadata": {
  "kernelspec": {
   "display_name": "Python 3",
   "language": "python",
   "name": "python3"
  },
  "language_info": {
   "codemirror_mode": {
    "name": "ipython",
    "version": 3
   },
   "file_extension": ".py",
   "mimetype": "text/x-python",
   "name": "python",
   "nbconvert_exporter": "python",
   "pygments_lexer": "ipython3",
   "version": "3.10.10"
  },
  "vscode": {
   "interpreter": {
    "hash": "e5fed7e365c7f688dda1ebba24a25a52cf51551a271995585bfb4d274bfd01cb"
   }
  }
 },
 "nbformat": 4,
 "nbformat_minor": 5
}
